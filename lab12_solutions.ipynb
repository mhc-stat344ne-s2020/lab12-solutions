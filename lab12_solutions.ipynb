{
  "nbformat": 4,
  "nbformat_minor": 0,
  "metadata": {
    "colab": {
      "name": "lab12-solutions.ipynb",
      "provenance": [],
      "collapsed_sections": []
    },
    "kernelspec": {
      "name": "python3",
      "display_name": "Python 3"
    }
  },
  "cells": [
    {
      "cell_type": "markdown",
      "metadata": {
        "id": "MJ6UU3Ay8vdZ",
        "colab_type": "text"
      },
      "source": [
        "\n",
        "# Introduction\n",
        "\n",
        "In this lab we will look at two examples where the functional API for Keras is required:\n",
        "\n",
        " 1. Answering simple questions based on a story.  The network you develop will have multiple inputs; one a set of sentences describing a scenario and the second a question to answer.  This is based on an example from the following sources:\n",
        "    * this Keras tutorial: https://keras.io/examples/babi_rnn/\n",
        "    * which is in turn based on this article: http://arxiv.org/abs/1502.05698\n",
        " 2. Forecasting the temperature and whether or not it will rain the next day based on recent observations of the weather.  In this example, you'll be able to practice specifying multiple outputs for a network.\n",
        "\n",
        " # Package imports"
      ]
    },
    {
      "cell_type": "code",
      "metadata": {
        "id": "xyD5alyF8gzw",
        "colab_type": "code",
        "colab": {
          "base_uri": "https://localhost:8080/",
          "height": 52
        },
        "outputId": "c2c69d2e-c9bf-4048-b56a-00f126716b88"
      },
      "source": [
        "%tensorflow_version 1.x\n",
        "\n",
        "import pandas as pd\n",
        "import numpy as np\n",
        "import matplotlib.pyplot as plt\n",
        "\n",
        "from keras import models\n",
        "from keras import layers\n",
        "from keras.utils.data_utils import get_file\n",
        "from keras.layers.embeddings import Embedding\n",
        "from keras import layers\n",
        "from keras.preprocessing.sequence import pad_sequences\n",
        "\n",
        "from __future__ import print_function\n",
        "from functools import reduce\n",
        "import re\n",
        "import tarfile"
      ],
      "execution_count": 1,
      "outputs": [
        {
          "output_type": "stream",
          "text": [
            "TensorFlow 1.x selected.\n"
          ],
          "name": "stdout"
        },
        {
          "output_type": "stream",
          "text": [
            "Using TensorFlow backend.\n"
          ],
          "name": "stderr"
        }
      ]
    },
    {
      "cell_type": "markdown",
      "metadata": {
        "id": "x_tkI8-X7Sb7",
        "colab_type": "text"
      },
      "source": [
        "# Example 1: Question Answering\n",
        "\n",
        "### Utility functions to load and preprocess data\n",
        "\n",
        "All of the following code is from https://keras.io/examples/babi_rnn/  You don't need to change it at all."
      ]
    },
    {
      "cell_type": "code",
      "metadata": {
        "id": "EERTrW0q7Ru-",
        "colab_type": "code",
        "colab": {
          "base_uri": "https://localhost:8080/",
          "height": 126
        },
        "outputId": "a167f6e7-e0a1-49c6-dd93-4b631570197b"
      },
      "source": [
        "def tokenize(sent):\n",
        "    '''Return the tokens of a sentence including punctuation.\n",
        "\n",
        "    >>> tokenize('Bob dropped the apple. Where is the apple?')\n",
        "    ['Bob', 'dropped', 'the', 'apple', '.', 'Where', 'is', 'the', 'apple', '?']\n",
        "    '''\n",
        "    return [x.strip() for x in re.split(r'(\\W+)', sent) if x.strip()]\n",
        "\n",
        "\n",
        "def parse_stories(lines, only_supporting=False):\n",
        "    '''Parse stories provided in the bAbi tasks format\n",
        "\n",
        "    If only_supporting is true,\n",
        "    only the sentences that support the answer are kept.\n",
        "    '''\n",
        "    data = []\n",
        "    story = []\n",
        "    for line in lines:\n",
        "        line = line.decode('utf-8').strip()\n",
        "        nid, line = line.split(' ', 1)\n",
        "        nid = int(nid)\n",
        "        if nid == 1:\n",
        "            story = []\n",
        "        if '\\t' in line:\n",
        "            q, a, supporting = line.split('\\t')\n",
        "            q = tokenize(q)\n",
        "            if only_supporting:\n",
        "                # Only select the related substory\n",
        "                supporting = map(int, supporting.split())\n",
        "                substory = [story[i - 1] for i in supporting]\n",
        "            else:\n",
        "                # Provide all the substories\n",
        "                substory = [x for x in story if x]\n",
        "            data.append((substory, q, a))\n",
        "            story.append('')\n",
        "        else:\n",
        "            sent = tokenize(line)\n",
        "            story.append(sent)\n",
        "    return data\n",
        "\n",
        "\n",
        "def get_stories(f, only_supporting=False, max_length=None):\n",
        "    '''Given a file name, read the file, retrieve the stories,\n",
        "    and then convert the sentences into a single story.\n",
        "\n",
        "    If max_length is supplied,\n",
        "    any stories longer than max_length tokens will be discarded.\n",
        "    '''\n",
        "    data = parse_stories(f.readlines(), only_supporting=only_supporting)\n",
        "    flatten = lambda data: reduce(lambda x, y: x + y, data)\n",
        "    data = [(flatten(story), q, answer) for story, q, answer in data\n",
        "            if not max_length or len(flatten(story)) < max_length]\n",
        "    return data\n",
        "\n",
        "\n",
        "def vectorize_stories(data, word_idx, story_maxlen, query_maxlen):\n",
        "    xs = []\n",
        "    xqs = []\n",
        "    ys = []\n",
        "    for story, query, answer in data:\n",
        "        x = [word_idx[w] for w in story]\n",
        "        xq = [word_idx[w] for w in query]\n",
        "        # let's not forget that index 0 is reserved\n",
        "        y = np.zeros(len(word_idx) + 1)\n",
        "        y[word_idx[answer]] = 1\n",
        "        xs.append(x)\n",
        "        xqs.append(xq)\n",
        "        ys.append(y)\n",
        "    return (pad_sequences(xs, maxlen=story_maxlen),\n",
        "            pad_sequences(xqs, maxlen=query_maxlen), np.array(ys))\n",
        "\n",
        "try:\n",
        "    path = get_file('babi-tasks-v1-2.tar.gz',\n",
        "                    origin='https://s3.amazonaws.com/text-datasets/'\n",
        "                           'babi_tasks_1-20_v1-2.tar.gz')\n",
        "except:\n",
        "    print('Error downloading dataset, please download it manually:\\n'\n",
        "          '$ wget http://www.thespermwhale.com/jaseweston/babi/tasks_1-20_v1-2'\n",
        "          '.tar.gz\\n'\n",
        "          '$ mv tasks_1-20_v1-2.tar.gz ~/.keras/datasets/babi-tasks-v1-2.tar.gz')\n",
        "    raise\n",
        "\n",
        "# Default QA1 with 1000 samples\n",
        "challenge = 'tasks_1-20_v1-2/en/qa1_single-supporting-fact_{}.txt'\n",
        "# QA1 with 10,000 samples\n",
        "# challenge = 'tasks_1-20_v1-2/en-10k/qa1_single-supporting-fact_{}.txt'\n",
        "# QA2 with 1000 samples\n",
        "#challenge = 'tasks_1-20_v1-2/en/qa2_two-supporting-facts_{}.txt'\n",
        "# QA2 with 10,000 samples\n",
        "# challenge = 'tasks_1-20_v1-2/en-10k/qa2_two-supporting-facts_{}.txt'\n",
        "with tarfile.open(path) as tar:\n",
        "    train = get_stories(tar.extractfile(challenge.format('train')))\n",
        "    test = get_stories(tar.extractfile(challenge.format('test')))\n",
        "\n",
        "vocab = set()\n",
        "for story, q, answer in train + test:\n",
        "    vocab |= set(story + q + [answer])\n",
        "vocab = sorted(vocab)\n",
        "\n",
        "# Reserve 0 for masking via pad_sequences\n",
        "vocab_size = len(vocab) + 1\n",
        "word_idx = dict((c, i + 1) for i, c in enumerate(vocab))\n",
        "story_maxlen = max(map(len, (x for x, _, _ in train + test)))\n",
        "query_maxlen = max(map(len, (x for _, x, _ in train + test)))\n",
        "\n",
        "x, xq, y = vectorize_stories(train, word_idx, story_maxlen, query_maxlen)\n",
        "tx, txq, ty = vectorize_stories(test, word_idx, story_maxlen, query_maxlen)\n",
        "\n",
        "print('vocab = {}'.format(vocab))\n",
        "print('x.shape = {}'.format(x.shape))\n",
        "print('xq.shape = {}'.format(xq.shape))\n",
        "print('y.shape = {}'.format(y.shape))\n",
        "print('story_maxlen, query_maxlen = {}, {}'.format(story_maxlen, query_maxlen))"
      ],
      "execution_count": 17,
      "outputs": [
        {
          "output_type": "stream",
          "text": [
            "vocab = ['.', '?', 'Daniel', 'John', 'Mary', 'Sandra', 'Where', 'back', 'bathroom', 'bedroom', 'garden', 'hallway', 'is', 'journeyed', 'kitchen', 'moved', 'office', 'the', 'to', 'travelled', 'went']\n",
            "x.shape = (1000, 66)\n",
            "xq.shape = (1000, 4)\n",
            "y.shape = (1000, 22)\n",
            "story_maxlen, query_maxlen = 66, 4\n"
          ],
          "name": "stdout"
        }
      ]
    },
    {
      "cell_type": "markdown",
      "metadata": {
        "id": "fl39cMxd-6DM",
        "colab_type": "text"
      },
      "source": [
        "Here's a look at a couple of examples from the training set.  Our network is presented with two inputs:\n",
        "\n",
        " * a story where some characters move around and interact with objects.\n",
        " * a question about where one of the characters is.\n",
        "\n",
        "The desired output is the answer to the question."
      ]
    },
    {
      "cell_type": "code",
      "metadata": {
        "id": "7jY_7QSy-8XX",
        "colab_type": "code",
        "colab": {
          "base_uri": "https://localhost:8080/",
          "height": 70
        },
        "outputId": "fe098da6-d53b-491c-ddf8-a04f2055f298"
      },
      "source": [
        "i = 2\n",
        "print('Training set story is: ' + ' '.join(train[i][0]))\n",
        "print('Training set question is: ' + ' '.join(train[i][1]))\n",
        "print('Training set answer is: ' + train[i][2])"
      ],
      "execution_count": 26,
      "outputs": [
        {
          "output_type": "stream",
          "text": [
            "Training set story is: Mary moved to the bathroom . John went to the hallway .\n",
            "Training set question is: Where is Mary ?\n",
            "Training set answer is: bathroom\n"
          ],
          "name": "stdout"
        }
      ]
    },
    {
      "cell_type": "code",
      "metadata": {
        "id": "up3G_Qq8FGuU",
        "colab_type": "code",
        "colab": {
          "base_uri": "https://localhost:8080/",
          "height": 90
        },
        "outputId": "9c2517eb-5d4c-4676-87f9-2070cae62335"
      },
      "source": [
        "i = 3\n",
        "print('Training set story is: ' + ' '.join(train[i][0]))\n",
        "print('Training set question is: ' + ' '.join(train[i][1]))\n",
        "print('Training set answer is: ' + train[i][2])"
      ],
      "execution_count": 29,
      "outputs": [
        {
          "output_type": "stream",
          "text": [
            "Training set story is: Mary moved to the bathroom . John went to the hallway . Daniel went back to the hallway . Sandra moved to the garden . John moved to the office . Sandra journeyed to the bathroom . Mary moved to the hallway . Daniel travelled to the office .\n",
            "Training set question is: Where is Daniel ?\n",
            "Training set answer is: office\n"
          ],
          "name": "stdout"
        }
      ]
    },
    {
      "cell_type": "markdown",
      "metadata": {
        "id": "mLlO2gdKA_jt",
        "colab_type": "text"
      },
      "source": [
        "Note that the training set stories are sparsely encoded in the array `x`, the training set questions are sparsely encoded in the array `xq`, and the training set answers are one-hot encoded in the array `y`.  The stories have been padded with leading 0s to the length of the longest story:"
      ]
    },
    {
      "cell_type": "code",
      "metadata": {
        "id": "AiAtps0BMB75",
        "colab_type": "code",
        "colab": {
          "base_uri": "https://localhost:8080/",
          "height": 106
        },
        "outputId": "f2af13f3-2573-4d0d-ec01-b3218ad3af93"
      },
      "source": [
        "print(\"Sparse encoding of story 2: \" + str(x[2, :]))\n",
        "print(\"Sparse encoding of question 2: \" + str(xq[2, :]))\n",
        "print(\"One-hot encoding of answer 2: \" + str(y[2]))"
      ],
      "execution_count": 36,
      "outputs": [
        {
          "output_type": "stream",
          "text": [
            "Sparse encoding of story 2: [ 0  0  0  0  0  0  0  0  0  0  0  0  0  0  0  0  0  0  0  0  0  0  0  0\n",
            "  0  0  0  0  0  5 16 19 18  9  1  4 21 19 18 12  1  3 21  8 19 18 12  1\n",
            "  6 16 19 18 11  1  4 16 19 18 17  1  6 14 19 18  9  1]\n",
            "Sparse encoding of question 2: [ 7 13  3  2]\n",
            "One-hot encoding of answer 2: [0. 0. 0. 0. 0. 0. 0. 0. 0. 0. 0. 0. 1. 0. 0. 0. 0. 0. 0. 0. 0. 0.]\n"
          ],
          "name": "stdout"
        }
      ]
    },
    {
      "cell_type": "markdown",
      "metadata": {
        "id": "R7oN-JtT8ODy",
        "colab_type": "text"
      },
      "source": [
        "One final note: this is a hard task!  The original Facebook article describing the task achieved only 50% classification accuracy, and we will have similar results (as I developed this, I got between about 46% and 52% on different estimation runs).  Our training set size is only 1000 sets of story/question/answer triples.\n",
        "\n",
        "## Build and Fit Model\n",
        "\n",
        "#### 1. Let's build a model to do this with the following structure:\n",
        "\n",
        " * Input branch one (the sentences/story)\n",
        "    * `sentence` is created by `layers.Input` with shape `(story_maxlen,)`, `dtype='int32'`, and and an appropriate `name`.\n",
        "    * `embedded_sentence` is created by `layers.Embedding` with: first argument `vocab_size`, the number of words in the stories; second argument 25 for embedding dimension 25.  What should the function returned by `layers.Embedding` be called on?  (What is the input to this layer?)\n",
        "    * `encoded_sentence` is created by `layers.recurrent.LSTM` with 100 units in the LSTM layer.  Specify that the function for the LSTM layer is called on the appropriate input.\n",
        " * Input branch two (the question)\n",
        "    * `question` is created by `layers.Input` with shape `(query_maxlen,)`, `dtype='int32'`, and and an appropriate `name`.\n",
        "    * `embedded_question` is created in the same way as `embedded_sentence`, but with the appropriate input from the previous layer.\n",
        "    * `encoded_question` is created in the same way as `encoded_sentence`, but with the appropriate input from the previous layer.\n",
        " * Concatenate the activation outputs from the two LSTM layers using `layers.concatenate`.  You will need to provide a list with the `encoded_sentence` and the `encoded_question`.  The default value for axis is -1, so you can leave that out if you want.  This is the only layer where you don't need an extra set of parentheses at the end with the outputs from the previous layer, since they were already provided.\n",
        " * Add a dense output layer with `layers.Dense`.  The number of units in the output layer should be `vocab_size` (in theory, any word in the vocabulary could be the correct answer to the question).  Specify an appropriate activation function, and the appropriate input from the previous layer.\n"
      ]
    },
    {
      "cell_type": "code",
      "metadata": {
        "id": "GTobaTTK8Q_C",
        "colab_type": "code",
        "colab": {
          "base_uri": "https://localhost:8080/",
          "height": 1000
        },
        "outputId": "41f956ac-0bc3-4bfb-eda2-2ceeb839f20e"
      },
      "source": [
        "# Input branch 1\n",
        "## Input layer for sentence\n",
        "sentence = layers.Input(shape=(story_maxlen,), dtype='int32', name='sentence')\n",
        "## Embedding layer for sentence\n",
        "embedded_sentence = layers.Embedding(vocab_size, 25)(sentence)\n",
        "## LSTM for sentence\n",
        "encoded_sentence = layers.recurrent.LSTM(100)(embedded_sentence)\n",
        "\n",
        "# Input branch 2\n",
        "## Input layer for question\n",
        "question = layers.Input(shape=(query_maxlen,), dtype='int32', name='question')\n",
        "## Embedding layer for question\n",
        "embedded_question = layers.Embedding(vocab_size, 25)(question)\n",
        "## LSTM for question\n",
        "encoded_question = layers.recurrent.LSTM(100)(embedded_question)\n",
        "\n",
        "# Concatenate LSTM outputs\n",
        "merged = layers.concatenate([encoded_sentence, encoded_question], axis = -1)\n",
        "# Output predictions layer\n",
        "preds = layers.Dense(vocab_size, activation='softmax')(merged)\n",
        "\n",
        "# Define model; you'll need a list of inputs\n",
        "model = models.Model(inputs=[sentence, question], outputs=preds)\n",
        "\n",
        "# Compile model; nothing for you to do here\n",
        "model.compile(optimizer='adam',\n",
        "              loss='categorical_crossentropy',\n",
        "              metrics=['accuracy'])\n",
        "\n",
        "# Fit the model to the training data\n",
        "# specify a dictionary of inputs for the first argument to model.fit\n",
        "model.fit({'sentence': x, 'question': xq}, y,\n",
        "          batch_size=32,\n",
        "          epochs=30,\n",
        "          validation_split=0.05)\n",
        "\n",
        "# Evaluate on test set; nothing for you to do here\n",
        "loss, acc = model.evaluate([tx, txq], ty,\n",
        "                           batch_size=32)\n",
        "print('Test loss / test accuracy = {:.4f} / {:.4f}'.format(loss, acc))"
      ],
      "execution_count": 40,
      "outputs": [
        {
          "output_type": "stream",
          "text": [
            "Train on 950 samples, validate on 50 samples\n",
            "Epoch 1/30\n",
            "950/950 [==============================] - 6s 6ms/step - loss: 2.4210 - acc: 0.1589 - val_loss: 1.8814 - val_acc: 0.0800\n",
            "Epoch 2/30\n",
            "950/950 [==============================] - 2s 2ms/step - loss: 1.8181 - acc: 0.1600 - val_loss: 1.8290 - val_acc: 0.0400\n",
            "Epoch 3/30\n",
            "950/950 [==============================] - 2s 2ms/step - loss: 1.8070 - acc: 0.1621 - val_loss: 1.7947 - val_acc: 0.0800\n",
            "Epoch 4/30\n",
            "950/950 [==============================] - 2s 2ms/step - loss: 1.8092 - acc: 0.1495 - val_loss: 1.8509 - val_acc: 0.1800\n",
            "Epoch 5/30\n",
            "950/950 [==============================] - 2s 2ms/step - loss: 1.8051 - acc: 0.1695 - val_loss: 1.8694 - val_acc: 0.0400\n",
            "Epoch 6/30\n",
            "950/950 [==============================] - 2s 2ms/step - loss: 1.8120 - acc: 0.1453 - val_loss: 1.8274 - val_acc: 0.0800\n",
            "Epoch 7/30\n",
            "950/950 [==============================] - 2s 2ms/step - loss: 1.8019 - acc: 0.1926 - val_loss: 1.7785 - val_acc: 0.2000\n",
            "Epoch 8/30\n",
            "950/950 [==============================] - 2s 3ms/step - loss: 1.7952 - acc: 0.1758 - val_loss: 1.8193 - val_acc: 0.0800\n",
            "Epoch 9/30\n",
            "950/950 [==============================] - 2s 2ms/step - loss: 1.7928 - acc: 0.1842 - val_loss: 1.7688 - val_acc: 0.2200\n",
            "Epoch 10/30\n",
            "950/950 [==============================] - 2s 2ms/step - loss: 1.7724 - acc: 0.1779 - val_loss: 1.7289 - val_acc: 0.3600\n",
            "Epoch 11/30\n",
            "950/950 [==============================] - 2s 2ms/step - loss: 1.7233 - acc: 0.3653 - val_loss: 1.8588 - val_acc: 0.1000\n",
            "Epoch 12/30\n",
            "950/950 [==============================] - 2s 2ms/step - loss: 1.7043 - acc: 0.2968 - val_loss: 1.6953 - val_acc: 0.3600\n",
            "Epoch 13/30\n",
            "950/950 [==============================] - 2s 2ms/step - loss: 1.6298 - acc: 0.4211 - val_loss: 1.6088 - val_acc: 0.3600\n",
            "Epoch 14/30\n",
            "950/950 [==============================] - 2s 2ms/step - loss: 1.5633 - acc: 0.4684 - val_loss: 1.5597 - val_acc: 0.3600\n",
            "Epoch 15/30\n",
            "950/950 [==============================] - 2s 2ms/step - loss: 1.5349 - acc: 0.4242 - val_loss: 1.5297 - val_acc: 0.4000\n",
            "Epoch 16/30\n",
            "950/950 [==============================] - 2s 2ms/step - loss: 1.4975 - acc: 0.4642 - val_loss: 1.5188 - val_acc: 0.3600\n",
            "Epoch 17/30\n",
            "950/950 [==============================] - 2s 2ms/step - loss: 1.4895 - acc: 0.4737 - val_loss: 1.4807 - val_acc: 0.4400\n",
            "Epoch 18/30\n",
            "950/950 [==============================] - 2s 3ms/step - loss: 1.4323 - acc: 0.4863 - val_loss: 1.4925 - val_acc: 0.4000\n",
            "Epoch 19/30\n",
            "950/950 [==============================] - 2s 2ms/step - loss: 1.4136 - acc: 0.5158 - val_loss: 1.5904 - val_acc: 0.3800\n",
            "Epoch 20/30\n",
            "950/950 [==============================] - 2s 2ms/step - loss: 1.3712 - acc: 0.5074 - val_loss: 1.4496 - val_acc: 0.4600\n",
            "Epoch 21/30\n",
            "950/950 [==============================] - 2s 2ms/step - loss: 1.3573 - acc: 0.5158 - val_loss: 1.4584 - val_acc: 0.4400\n",
            "Epoch 22/30\n",
            "950/950 [==============================] - 2s 2ms/step - loss: 1.3261 - acc: 0.5442 - val_loss: 1.4455 - val_acc: 0.4000\n",
            "Epoch 23/30\n",
            "950/950 [==============================] - 2s 2ms/step - loss: 1.3047 - acc: 0.5326 - val_loss: 1.4557 - val_acc: 0.4400\n",
            "Epoch 24/30\n",
            "950/950 [==============================] - 2s 2ms/step - loss: 1.2936 - acc: 0.5453 - val_loss: 1.4969 - val_acc: 0.4200\n",
            "Epoch 25/30\n",
            "950/950 [==============================] - 2s 2ms/step - loss: 1.2920 - acc: 0.5411 - val_loss: 1.4972 - val_acc: 0.4400\n",
            "Epoch 26/30\n",
            "950/950 [==============================] - 2s 2ms/step - loss: 1.2588 - acc: 0.5516 - val_loss: 1.4061 - val_acc: 0.4400\n",
            "Epoch 27/30\n",
            "950/950 [==============================] - 2s 2ms/step - loss: 1.2289 - acc: 0.5526 - val_loss: 1.3858 - val_acc: 0.4400\n",
            "Epoch 28/30\n",
            "950/950 [==============================] - 2s 2ms/step - loss: 1.2184 - acc: 0.5516 - val_loss: 1.4290 - val_acc: 0.4400\n",
            "Epoch 29/30\n",
            "950/950 [==============================] - 2s 2ms/step - loss: 1.1892 - acc: 0.5537 - val_loss: 1.3217 - val_acc: 0.5000\n",
            "Epoch 30/30\n",
            "950/950 [==============================] - 2s 2ms/step - loss: 1.1806 - acc: 0.5537 - val_loss: 1.4346 - val_acc: 0.4600\n",
            "1000/1000 [==============================] - 0s 456us/step\n",
            "Test loss / test accuracy = 1.3533 / 0.4690\n"
          ],
          "name": "stdout"
        }
      ]
    },
    {
      "cell_type": "markdown",
      "metadata": {
        "id": "drPngfWhTEyV",
        "colab_type": "text"
      },
      "source": [
        "Here's a summary of the model you defined above:"
      ]
    },
    {
      "cell_type": "code",
      "metadata": {
        "id": "lGqDhMatTIn5",
        "colab_type": "code",
        "colab": {
          "base_uri": "https://localhost:8080/",
          "height": 460
        },
        "outputId": "4e2036d6-68ad-42fa-9219-5d97d0585d0c"
      },
      "source": [
        "model.summary()"
      ],
      "execution_count": 59,
      "outputs": [
        {
          "output_type": "stream",
          "text": [
            "Model: \"model_6\"\n",
            "__________________________________________________________________________________________________\n",
            "Layer (type)                    Output Shape         Param #     Connected to                     \n",
            "==================================================================================================\n",
            "sentence (InputLayer)           (None, 66)           0                                            \n",
            "__________________________________________________________________________________________________\n",
            "question (InputLayer)           (None, 4)            0                                            \n",
            "__________________________________________________________________________________________________\n",
            "embedding_11 (Embedding)        (None, 66, 25)       550         sentence[0][0]                   \n",
            "__________________________________________________________________________________________________\n",
            "embedding_12 (Embedding)        (None, 4, 25)        550         question[0][0]                   \n",
            "__________________________________________________________________________________________________\n",
            "lstm_11 (LSTM)                  (None, 100)          50400       embedding_11[0][0]               \n",
            "__________________________________________________________________________________________________\n",
            "lstm_12 (LSTM)                  (None, 100)          50400       embedding_12[0][0]               \n",
            "__________________________________________________________________________________________________\n",
            "concatenate_6 (Concatenate)     (None, 200)          0           lstm_11[0][0]                    \n",
            "                                                                 lstm_12[0][0]                    \n",
            "__________________________________________________________________________________________________\n",
            "dense_6 (Dense)                 (None, 22)           4422        concatenate_6[0][0]              \n",
            "==================================================================================================\n",
            "Total params: 106,322\n",
            "Trainable params: 106,322\n",
            "Non-trainable params: 0\n",
            "__________________________________________________________________________________________________\n"
          ],
          "name": "stdout"
        }
      ]
    },
    {
      "cell_type": "markdown",
      "metadata": {
        "id": "JxucINx-TZAc",
        "colab_type": "text"
      },
      "source": [
        "#### 2. In a sentence or two, explain why the lstm layers and the concatenate layer have the output shape they do.\n",
        "\n",
        "We specified that the LSTM layers would have 100 units when we created them.  The first dimension of None represents an unspecified number of observations in a particular batch.\n",
        "\n",
        "When we concatenated two layers of 100 units together, we got all 200 units in the concatenated results."
      ]
    },
    {
      "cell_type": "markdown",
      "metadata": {
        "id": "8oMRSFieJ9Md",
        "colab_type": "text"
      },
      "source": [
        "# Example 2: Weather Forecasting\n",
        "\n",
        "Suppose we want to use the weather over the last 30 days to predict:\n",
        "\n",
        " * the daily high temperature tomorrow\n",
        " * whether or not it will rain tomorrow\n",
        "\n",
        "This doesn't really work (our classification accuracy for whether or not it will rain is disappointing), but I couldn't think of another example to demonstrate a network with multiple outputs that wouldn't take forever to run...\n",
        "\n",
        "### Data Preprocessing\n",
        "\n",
        "Here's a look at the data set of weather in South Hadley, after filtering to data since the year 1970 and keeping only the variables we will use."
      ]
    },
    {
      "cell_type": "code",
      "metadata": {
        "id": "uL4LdTtiB1w_",
        "colab_type": "code",
        "colab": {}
      },
      "source": [
        "weather = pd.read_csv(\"http://www.evanlray.com/data/misc/south_hadley_weather/daily_weather.csv\")\n",
        "weather = weather[weather.year >= 1971]\n",
        "weather['rained'] = weather.events.str.contains('Rain').fillna(value = 0).astype('int')\n",
        "\n",
        "vars_to_keep = ['temp_avg_F', 'dew_pt_avg_F', 'humidity_avg_pct',\n",
        "                'sea_level_press_avg_in', 'wind_avg_mph', 'rained']\n",
        "vars_to_keep = ['temp_high_F', 'temp_avg_F', 'temp_low_F', 'dew_pt_high_F',\n",
        "       'dew_pt_avg_F', 'dew_pt_low_F', 'humidity_high_pct', 'humidity_avg_pct',\n",
        "       'humidity_low_pct', 'sea_level_press_high_in', 'sea_level_press_avg_in',\n",
        "       'sea_level_press_low_in', 'wind_high_mph', 'wind_avg_mph',\n",
        "       'rained']\n",
        "#       'precipitation_in']\n",
        "weather = weather.loc[:, vars_to_keep]"
      ],
      "execution_count": 0,
      "outputs": []
    },
    {
      "cell_type": "code",
      "metadata": {
        "id": "rA4q8D6aIMEH",
        "colab_type": "code",
        "outputId": "e054085f-94bc-47ce-e977-1ccc42f4ba50",
        "colab": {
          "base_uri": "https://localhost:8080/",
          "height": 226
        }
      },
      "source": [
        "weather.head()"
      ],
      "execution_count": 42,
      "outputs": [
        {
          "output_type": "execute_result",
          "data": {
            "text/html": [
              "<div>\n",
              "<style scoped>\n",
              "    .dataframe tbody tr th:only-of-type {\n",
              "        vertical-align: middle;\n",
              "    }\n",
              "\n",
              "    .dataframe tbody tr th {\n",
              "        vertical-align: top;\n",
              "    }\n",
              "\n",
              "    .dataframe thead th {\n",
              "        text-align: right;\n",
              "    }\n",
              "</style>\n",
              "<table border=\"1\" class=\"dataframe\">\n",
              "  <thead>\n",
              "    <tr style=\"text-align: right;\">\n",
              "      <th></th>\n",
              "      <th>temp_high_F</th>\n",
              "      <th>temp_avg_F</th>\n",
              "      <th>temp_low_F</th>\n",
              "      <th>dew_pt_high_F</th>\n",
              "      <th>dew_pt_avg_F</th>\n",
              "      <th>dew_pt_low_F</th>\n",
              "      <th>humidity_high_pct</th>\n",
              "      <th>humidity_avg_pct</th>\n",
              "      <th>humidity_low_pct</th>\n",
              "      <th>sea_level_press_high_in</th>\n",
              "      <th>sea_level_press_avg_in</th>\n",
              "      <th>sea_level_press_low_in</th>\n",
              "      <th>wind_high_mph</th>\n",
              "      <th>wind_avg_mph</th>\n",
              "      <th>rained</th>\n",
              "    </tr>\n",
              "  </thead>\n",
              "  <tbody>\n",
              "    <tr>\n",
              "      <th>10867</th>\n",
              "      <td>28.0</td>\n",
              "      <td>24.0</td>\n",
              "      <td>19.0</td>\n",
              "      <td>20.0</td>\n",
              "      <td>16.0</td>\n",
              "      <td>9.0</td>\n",
              "      <td>81.0</td>\n",
              "      <td>71.0</td>\n",
              "      <td>58.0</td>\n",
              "      <td>29.95</td>\n",
              "      <td>29.76</td>\n",
              "      <td>29.63</td>\n",
              "      <td>17.0</td>\n",
              "      <td>8.0</td>\n",
              "      <td>0</td>\n",
              "    </tr>\n",
              "    <tr>\n",
              "      <th>10868</th>\n",
              "      <td>33.0</td>\n",
              "      <td>22.0</td>\n",
              "      <td>10.0</td>\n",
              "      <td>25.0</td>\n",
              "      <td>15.0</td>\n",
              "      <td>4.0</td>\n",
              "      <td>84.0</td>\n",
              "      <td>66.0</td>\n",
              "      <td>46.0</td>\n",
              "      <td>30.08</td>\n",
              "      <td>29.98</td>\n",
              "      <td>29.81</td>\n",
              "      <td>9.0</td>\n",
              "      <td>2.0</td>\n",
              "      <td>0</td>\n",
              "    </tr>\n",
              "    <tr>\n",
              "      <th>10869</th>\n",
              "      <td>38.0</td>\n",
              "      <td>26.0</td>\n",
              "      <td>14.0</td>\n",
              "      <td>22.0</td>\n",
              "      <td>18.0</td>\n",
              "      <td>7.0</td>\n",
              "      <td>88.0</td>\n",
              "      <td>65.0</td>\n",
              "      <td>51.0</td>\n",
              "      <td>30.31</td>\n",
              "      <td>30.19</td>\n",
              "      <td>30.07</td>\n",
              "      <td>21.0</td>\n",
              "      <td>5.0</td>\n",
              "      <td>0</td>\n",
              "    </tr>\n",
              "    <tr>\n",
              "      <th>10870</th>\n",
              "      <td>34.0</td>\n",
              "      <td>25.0</td>\n",
              "      <td>16.0</td>\n",
              "      <td>31.0</td>\n",
              "      <td>21.0</td>\n",
              "      <td>10.0</td>\n",
              "      <td>89.0</td>\n",
              "      <td>79.0</td>\n",
              "      <td>61.0</td>\n",
              "      <td>30.31</td>\n",
              "      <td>30.19</td>\n",
              "      <td>29.98</td>\n",
              "      <td>5.0</td>\n",
              "      <td>1.0</td>\n",
              "      <td>1</td>\n",
              "    </tr>\n",
              "    <tr>\n",
              "      <th>10871</th>\n",
              "      <td>40.0</td>\n",
              "      <td>36.0</td>\n",
              "      <td>30.0</td>\n",
              "      <td>33.0</td>\n",
              "      <td>27.0</td>\n",
              "      <td>15.0</td>\n",
              "      <td>92.0</td>\n",
              "      <td>73.0</td>\n",
              "      <td>46.0</td>\n",
              "      <td>29.96</td>\n",
              "      <td>29.83</td>\n",
              "      <td>29.75</td>\n",
              "      <td>17.0</td>\n",
              "      <td>4.0</td>\n",
              "      <td>1</td>\n",
              "    </tr>\n",
              "  </tbody>\n",
              "</table>\n",
              "</div>"
            ],
            "text/plain": [
              "       temp_high_F  temp_avg_F  temp_low_F  ...  wind_high_mph  wind_avg_mph  rained\n",
              "10867         28.0        24.0        19.0  ...           17.0           8.0       0\n",
              "10868         33.0        22.0        10.0  ...            9.0           2.0       0\n",
              "10869         38.0        26.0        14.0  ...           21.0           5.0       0\n",
              "10870         34.0        25.0        16.0  ...            5.0           1.0       1\n",
              "10871         40.0        36.0        30.0  ...           17.0           4.0       1\n",
              "\n",
              "[5 rows x 15 columns]"
            ]
          },
          "metadata": {
            "tags": []
          },
          "execution_count": 42
        }
      ]
    },
    {
      "cell_type": "markdown",
      "metadata": {
        "id": "IVLrP1lG7ZBh",
        "colab_type": "text"
      },
      "source": [
        "Is there any missing data?"
      ]
    },
    {
      "cell_type": "code",
      "metadata": {
        "id": "UN4oiFiNd10s",
        "colab_type": "code",
        "outputId": "1b4956b9-4b29-4daf-bbae-35a8950d2ebb",
        "colab": {
          "base_uri": "https://localhost:8080/",
          "height": 300
        }
      },
      "source": [
        "weather.isnull().sum()"
      ],
      "execution_count": 43,
      "outputs": [
        {
          "output_type": "execute_result",
          "data": {
            "text/plain": [
              "temp_high_F                5\n",
              "temp_avg_F                 7\n",
              "temp_low_F                 5\n",
              "dew_pt_high_F              5\n",
              "dew_pt_avg_F               5\n",
              "dew_pt_low_F               5\n",
              "humidity_high_pct          5\n",
              "humidity_avg_pct           5\n",
              "humidity_low_pct           5\n",
              "sea_level_press_high_in    5\n",
              "sea_level_press_avg_in     5\n",
              "sea_level_press_low_in     5\n",
              "wind_high_mph              5\n",
              "wind_avg_mph               5\n",
              "rained                     0\n",
              "dtype: int64"
            ]
          },
          "metadata": {
            "tags": []
          },
          "execution_count": 43
        }
      ]
    },
    {
      "cell_type": "markdown",
      "metadata": {
        "id": "7SMhyOmd7bih",
        "colab_type": "text"
      },
      "source": [
        "Yes, there is missing data.  The following function fills in missing values wtih the previous observed value for that variable in the data set."
      ]
    },
    {
      "cell_type": "code",
      "metadata": {
        "id": "gzq9byG4s7_C",
        "colab_type": "code",
        "colab": {}
      },
      "source": [
        "weather = weather.fillna(method='pad')"
      ],
      "execution_count": 0,
      "outputs": []
    },
    {
      "cell_type": "code",
      "metadata": {
        "id": "P5I1Tcw0tYHr",
        "colab_type": "code",
        "outputId": "351c1936-57d1-47a4-c912-7fdad7775e4b",
        "colab": {
          "base_uri": "https://localhost:8080/",
          "height": 300
        }
      },
      "source": [
        "weather.isnull().sum()"
      ],
      "execution_count": 45,
      "outputs": [
        {
          "output_type": "execute_result",
          "data": {
            "text/plain": [
              "temp_high_F                0\n",
              "temp_avg_F                 0\n",
              "temp_low_F                 0\n",
              "dew_pt_high_F              0\n",
              "dew_pt_avg_F               0\n",
              "dew_pt_low_F               0\n",
              "humidity_high_pct          0\n",
              "humidity_avg_pct           0\n",
              "humidity_low_pct           0\n",
              "sea_level_press_high_in    0\n",
              "sea_level_press_avg_in     0\n",
              "sea_level_press_low_in     0\n",
              "wind_high_mph              0\n",
              "wind_avg_mph               0\n",
              "rained                     0\n",
              "dtype: int64"
            ]
          },
          "metadata": {
            "tags": []
          },
          "execution_count": 45
        }
      ]
    },
    {
      "cell_type": "markdown",
      "metadata": {
        "id": "R9GQUPbH7jjV",
        "colab_type": "text"
      },
      "source": [
        "All better :)  Let's convert from a pandas data frame to a numpy array."
      ]
    },
    {
      "cell_type": "code",
      "metadata": {
        "id": "eYxfD0uySVcH",
        "colab_type": "code",
        "colab": {}
      },
      "source": [
        "weather = weather.to_numpy()"
      ],
      "execution_count": 0,
      "outputs": []
    },
    {
      "cell_type": "markdown",
      "metadata": {
        "id": "HHpR_gVvMELT",
        "colab_type": "text"
      },
      "source": [
        "Here is a plot of the daily average temperature (in degrees F) since 1940.  To be able to see the patterns more clearly, I have split the data up over two subplots."
      ]
    },
    {
      "cell_type": "code",
      "metadata": {
        "id": "XTq-wHmI7DMD",
        "colab_type": "code",
        "outputId": "ff397850-6be0-400f-f634-606ac2c56aba",
        "colab": {
          "base_uri": "https://localhost:8080/",
          "height": 35
        }
      },
      "source": [
        "len(weather)/2"
      ],
      "execution_count": 47,
      "outputs": [
        {
          "output_type": "execute_result",
          "data": {
            "text/plain": [
              "8558.5"
            ]
          },
          "metadata": {
            "tags": []
          },
          "execution_count": 47
        }
      ]
    },
    {
      "cell_type": "code",
      "metadata": {
        "id": "AiGdp0PIIN3W",
        "colab_type": "code",
        "outputId": "31ab0a61-035a-45cd-ae13-686f4da89303",
        "colab": {
          "base_uri": "https://localhost:8080/",
          "height": 694
        }
      },
      "source": [
        "fig, ax = plt.subplots(2, 1, figsize = (18, 12))\n",
        "ax[0].plot(weather[:8558, 0])\n",
        "ax[1].plot(weather[8558:, 0])"
      ],
      "execution_count": 48,
      "outputs": [
        {
          "output_type": "execute_result",
          "data": {
            "text/plain": [
              "[<matplotlib.lines.Line2D at 0x7f4c11d9a400>]"
            ]
          },
          "metadata": {
            "tags": []
          },
          "execution_count": 48
        },
        {
          "output_type": "display_data",
          "data": {
            "image/png": "[encoded data removed]",
            "text/plain": [
              "<Figure size 1296x864 with 2 Axes>"
            ]
          },
          "metadata": {
            "tags": []
          }
        }
      ]
    },
    {
      "cell_type": "markdown",
      "metadata": {
        "id": "vVAC6I5-RM5A",
        "colab_type": "text"
      },
      "source": [
        "A plot of rain vs. no rain wasn't informative, but here's the proportion of days in the data set when it rained in South Hadley:"
      ]
    },
    {
      "cell_type": "code",
      "metadata": {
        "id": "TNmJ6D4tpLdv",
        "colab_type": "code",
        "colab": {
          "base_uri": "https://localhost:8080/",
          "height": 35
        },
        "outputId": "a8b3ce8d-fb35-4bf2-cd44-e983ae6150da"
      },
      "source": [
        "np.mean(weather[:, 14])"
      ],
      "execution_count": 52,
      "outputs": [
        {
          "output_type": "execute_result",
          "data": {
            "text/plain": [
              "0.3359817725068645"
            ]
          },
          "metadata": {
            "tags": []
          },
          "execution_count": 52
        }
      ]
    },
    {
      "cell_type": "markdown",
      "metadata": {
        "id": "f1Gj_rFhLURE",
        "colab_type": "text"
      },
      "source": [
        "#### Approach to train/validation/test split\n",
        "\n",
        "This has not changed since the last lab on this topic.  As a reminder:\n",
        "\n",
        " * Rather than getting a random split, with time series data it's common to divide the data into contiguous blocks, with the train set being the beginning of the time series, the validation set next, and the test set last.  In this way, you never look at \"future\" data as part of the training or validation set.\n",
        " * We'll use the first 10240 observations (evenly divisible by a batch size of 128, about 60% of the data set) for the training set, the next 3456 (divisible by 128, about 20% of the data set) for the validation set, and the final 3421 observations for the test set.\n",
        " * Rather than explicitly splitting the data, we'll keep track of these indices and create a generator for each data set that knows about the data set it should use.\n",
        "\n",
        "#### Standardize input features\n",
        "\n",
        "We need to standardize the explanatory variables, as usual.  For ease of interpretation, we do not standardize the response variables"
      ]
    },
    {
      "cell_type": "code",
      "metadata": {
        "id": "gulokYkOSAGO",
        "colab_type": "code",
        "colab": {}
      },
      "source": [
        "# when standardizing, calculate the mean and standard deviation based on\n",
        "# only the training set, but standardize the full data set.\n",
        "train_mean = weather[:10240, 1:-1].mean(axis=0)\n",
        "weather[:, 1:-1] = weather[:, 1:-1] - train_mean\n",
        "train_std = weather[:10240, 1:-1].std(axis=0)\n",
        "weather[:, 1:-1] = weather[:, 1:-1] / train_std"
      ],
      "execution_count": 0,
      "outputs": []
    },
    {
      "cell_type": "markdown",
      "metadata": {
        "id": "sXGhPl9_Ajr4",
        "colab_type": "text"
      },
      "source": [
        "## Generators\n",
        "\n",
        "We define generators for batches of observations.  This code is almost the same as in our previous lab on this data set, with one minor adjustment: a new argument called `output`, which may be either 'both', 'temp', or 'precip'.  If it is 'both', the generator will return a dictionary with values of temperature and precipitation.  Otherwise, it will return only a numpy array for the specified variable.  We create a set of training, validation, and test set generators to work with both target variables at once."
      ]
    },
    {
      "cell_type": "code",
      "metadata": {
        "id": "j-S7JlOGRHSf",
        "colab_type": "code",
        "colab": {}
      },
      "source": [
        "def generator(data, lookback, delay, min_index, max_index,\n",
        "              shuffle=False, batch_size=128, step=1, output = 'both'):\n",
        "    if max_index is None:\n",
        "        max_index = len(data) - delay - 1\n",
        "    i = min_index + lookback\n",
        "    while 1:\n",
        "        if shuffle:\n",
        "            rows = np.random.randint(\n",
        "                min_index + lookback, max_index, size=batch_size)\n",
        "        else:\n",
        "            if i + batch_size >= max_index:\n",
        "                i = min_index + lookback\n",
        "            rows = np.arange(i, min(i + batch_size, max_index))\n",
        "            i += len(rows)\n",
        "\n",
        "        samples = np.zeros((len(rows),\n",
        "                           lookback // step,\n",
        "                           data.shape[-1]))\n",
        "        temp_targets = np.zeros((len(rows),))\n",
        "        precip_targets = np.zeros((len(rows),))\n",
        "        for j, row in enumerate(rows):\n",
        "            indices = range(rows[j] - lookback, rows[j], step)\n",
        "            samples[j] = data[indices]\n",
        "            temp_targets[j] = data[rows[j] + delay][0]\n",
        "            precip_targets[j] = data[rows[j] + delay][-1]\n",
        "        \n",
        "        if output == 'both':\n",
        "          yield samples, {'temp': temp_targets, 'precip': precip_targets}\n",
        "        elif output == 'temp':\n",
        "          yield samples, temp_targets\n",
        "        elif output == 'precip':\n",
        "          yield samples, precip_targets\n",
        "        else:\n",
        "          print('invalid argument \"output\": must be \"both\", \"temp\", or \"precip\"')\n",
        "          raise ValueError()"
      ],
      "execution_count": 0,
      "outputs": []
    },
    {
      "cell_type": "code",
      "metadata": {
        "id": "ezCgXA8wVHlE",
        "colab_type": "code",
        "colab": {}
      },
      "source": [
        "train_both_gen = generator(weather,\n",
        "                      lookback=30,\n",
        "                      delay=1,\n",
        "                      min_index=0,\n",
        "                      max_index=10240,\n",
        "                      shuffle=True,\n",
        "                      step=1,\n",
        "                      batch_size=128,\n",
        "                      output='both')\n",
        "val_both_gen = generator(weather,\n",
        "                    lookback=30,\n",
        "                    delay=1,\n",
        "                    min_index=10241,\n",
        "                    max_index=13696,\n",
        "                    shuffle=False,\n",
        "                    step=1,\n",
        "                    batch_size=128,\n",
        "                    output='both')\n",
        "test_both_gen = generator(weather,\n",
        "                     lookback=30,\n",
        "                     delay=1,\n",
        "                     min_index=13697,\n",
        "                     max_index=None,\n",
        "                     shuffle=False,\n",
        "                     step=1,\n",
        "                     batch_size=128,\n",
        "                     output='both')\n",
        "\n",
        "lookback = 30\n",
        "batch_size = 128\n",
        "train_steps = (16896 - lookback) // batch_size\n",
        "val_steps = (22528 - 16897 - lookback) // batch_size\n",
        "tes_steps = (len(weather) - 22528 - lookback) // batch_size"
      ],
      "execution_count": 0,
      "outputs": []
    },
    {
      "cell_type": "markdown",
      "metadata": {
        "id": "okvWHk6LRDgs",
        "colab_type": "text"
      },
      "source": [
        "### 3. GRU Model via Functional API\n",
        "\n",
        "Recall that last time we worked with this example, a GRU had best performance.  Let's try a GRU model again.\n",
        "\n",
        " * Your `Input` layer should have `input_shape = (None, weather.shape[-1])`, `dtype = 'float', and an appropriate `name`.\n",
        " * Add a `layers.GRU` with 32 hidden units and the output from your previous layer as input\n",
        " * Add two separate Dense output layers, one for temperature and the other for precipitation.  Give them the names `'temp'` and `'precip'` respectively.  (This is necessary to match the naming convention I set up in the generator above.)\n",
        " * Create a model with a list of outputs\n",
        " * Compile the model with `'mae'` for the loss for `'temp'` and `'binary_crossentropy'` for the loss or `'precip'`.  Add `['accuracy']` as an additional metric.\n",
        " * I have provided the code for fitting using `fit_generator()`."
      ]
    },
    {
      "cell_type": "code",
      "metadata": {
        "id": "y-OtM0A3qnN9",
        "colab_type": "code",
        "colab": {
          "base_uri": "https://localhost:8080/",
          "height": 763
        },
        "outputId": "359e696d-dc4b-4a1e-f028-b30b5661c823"
      },
      "source": [
        "# Define input layer\n",
        "weather_input = layers.Input(shape=(None, weather.shape[-1]), dtype='float', name='weather')\n",
        "\n",
        "# GRU layer\n",
        "x = layers.GRU(32)(weather_input)\n",
        "\n",
        "# output layer for temperature\n",
        "temp_prediction = layers.Dense(1, activation='linear', name = 'temp')(x)\n",
        "\n",
        "# output layer for precipitation\n",
        "precip_prediction = layers.Dense(1, activation='sigmoid', name = 'precip')(x)\n",
        "\n",
        "# model.  You will need a list for the outputs\n",
        "both_model = models.Model(inputs=weather_input, outputs=[temp_prediction, precip_prediction])\n",
        "\n",
        "# compile the model.  specify a dictionary for the loss.\n",
        "both_model.compile(\n",
        "    optimizer='rmsprop',\n",
        "    loss={'temp': 'mae', 'precip': 'binary_crossentropy'},\n",
        "    metrics = ['accuracy'])\n",
        "\n",
        "# fit the model.\n",
        "both_model.fit_generator(train_both_gen,\n",
        "                    steps_per_epoch=train_steps,\n",
        "                    epochs=20,\n",
        "                    validation_data=val_both_gen,\n",
        "                    validation_steps=val_steps)"
      ],
      "execution_count": 63,
      "outputs": [
        {
          "output_type": "stream",
          "text": [
            "Epoch 1/20\n",
            "131/131 [==============================] - 7s 51ms/step - loss: 55.4354 - temp_loss: 54.7937 - precip_loss: 0.6417 - temp_acc: 5.9637e-05 - precip_acc: 0.6785 - val_loss: 50.8880 - val_temp_loss: 50.2595 - val_precip_loss: 0.6286 - val_temp_acc: 0.0018 - val_precip_acc: 0.6875\n",
            "Epoch 2/20\n",
            "131/131 [==============================] - 4s 28ms/step - loss: 47.2450 - temp_loss: 46.6106 - precip_loss: 0.6344 - temp_acc: 0.0011 - precip_acc: 0.6749 - val_loss: 45.8076 - val_temp_loss: 45.1816 - val_precip_loss: 0.6260 - val_temp_acc: 0.0011 - val_precip_acc: 0.6811\n",
            "Epoch 3/20\n",
            "131/131 [==============================] - 4s 27ms/step - loss: 43.0123 - temp_loss: 42.3834 - precip_loss: 0.6289 - temp_acc: 0.0020 - precip_acc: 0.6778 - val_loss: 40.8894 - val_temp_loss: 40.2632 - val_precip_loss: 0.6262 - val_temp_acc: 0.0060 - val_precip_acc: 0.6810\n",
            "Epoch 4/20\n",
            "131/131 [==============================] - 4s 27ms/step - loss: 39.0119 - temp_loss: 38.3825 - precip_loss: 0.6294 - temp_acc: 0.0025 - precip_acc: 0.6772 - val_loss: 37.4445 - val_temp_loss: 36.8196 - val_precip_loss: 0.6249 - val_temp_acc: 0.0038 - val_precip_acc: 0.6828\n",
            "Epoch 5/20\n",
            "131/131 [==============================] - 3s 27ms/step - loss: 34.3043 - temp_loss: 33.6765 - precip_loss: 0.6278 - temp_acc: 0.0067 - precip_acc: 0.6793 - val_loss: 33.6320 - val_temp_loss: 33.0050 - val_precip_loss: 0.6270 - val_temp_acc: 3.6337e-04 - val_precip_acc: 0.6799\n",
            "Epoch 6/20\n",
            "131/131 [==============================] - 4s 28ms/step - loss: 30.6431 - temp_loss: 30.0107 - precip_loss: 0.6323 - temp_acc: 0.0082 - precip_acc: 0.6729 - val_loss: 29.3100 - val_temp_loss: 28.6841 - val_precip_loss: 0.6259 - val_temp_acc: 1.8169e-04 - val_precip_acc: 0.6822\n",
            "Epoch 7/20\n",
            "131/131 [==============================] - 4s 27ms/step - loss: 27.1936 - temp_loss: 26.5607 - precip_loss: 0.6329 - temp_acc: 0.0134 - precip_acc: 0.6722 - val_loss: 26.4355 - val_temp_loss: 25.8087 - val_precip_loss: 0.6269 - val_temp_acc: 0.0018 - val_precip_acc: 0.6801\n",
            "Epoch 8/20\n",
            "131/131 [==============================] - 4s 27ms/step - loss: 24.2215 - temp_loss: 23.5930 - precip_loss: 0.6285 - temp_acc: 0.0166 - precip_acc: 0.6808 - val_loss: 23.4900 - val_temp_loss: 22.8591 - val_precip_loss: 0.6309 - val_temp_acc: 0.0131 - val_precip_acc: 0.6815\n",
            "Epoch 9/20\n",
            "131/131 [==============================] - 3s 26ms/step - loss: 21.4933 - temp_loss: 20.8724 - precip_loss: 0.6210 - temp_acc: 0.0144 - precip_acc: 0.6808 - val_loss: 20.3463 - val_temp_loss: 19.7384 - val_precip_loss: 0.6079 - val_temp_acc: 0.0213 - val_precip_acc: 0.6822\n",
            "Epoch 10/20\n",
            "131/131 [==============================] - 3s 27ms/step - loss: 18.7145 - temp_loss: 18.1014 - precip_loss: 0.6131 - temp_acc: 0.0242 - precip_acc: 0.6797 - val_loss: 17.9042 - val_temp_loss: 17.2980 - val_precip_loss: 0.6063 - val_temp_acc: 0.0256 - val_precip_acc: 0.6808\n",
            "Epoch 11/20\n",
            "131/131 [==============================] - 4s 28ms/step - loss: 16.4212 - temp_loss: 15.8042 - precip_loss: 0.6170 - temp_acc: 0.0258 - precip_acc: 0.6741 - val_loss: 15.6786 - val_temp_loss: 15.0716 - val_precip_loss: 0.6070 - val_temp_acc: 0.0269 - val_precip_acc: 0.6810\n",
            "Epoch 12/20\n",
            "131/131 [==============================] - 4s 27ms/step - loss: 14.2721 - temp_loss: 13.6569 - precip_loss: 0.6152 - temp_acc: 0.0275 - precip_acc: 0.6723 - val_loss: 13.6550 - val_temp_loss: 13.0540 - val_precip_loss: 0.6010 - val_temp_acc: 0.0323 - val_precip_acc: 0.6851\n",
            "Epoch 13/20\n",
            "131/131 [==============================] - 3s 26ms/step - loss: 12.4551 - temp_loss: 11.8417 - precip_loss: 0.6135 - temp_acc: 0.0267 - precip_acc: 0.6778 - val_loss: 12.0470 - val_temp_loss: 11.4387 - val_precip_loss: 0.6083 - val_temp_acc: 0.0223 - val_precip_acc: 0.6773\n",
            "Epoch 14/20\n",
            "131/131 [==============================] - 4s 27ms/step - loss: 10.8214 - temp_loss: 10.2083 - precip_loss: 0.6131 - temp_acc: 0.0337 - precip_acc: 0.6780 - val_loss: 10.4787 - val_temp_loss: 9.8702 - val_precip_loss: 0.6084 - val_temp_acc: 0.0274 - val_precip_acc: 0.6784\n",
            "Epoch 15/20\n",
            "131/131 [==============================] - 3s 26ms/step - loss: 9.5182 - temp_loss: 8.9134 - precip_loss: 0.6048 - temp_acc: 0.0375 - precip_acc: 0.6805 - val_loss: 9.2844 - val_temp_loss: 8.6866 - val_precip_loss: 0.5977 - val_temp_acc: 0.0402 - val_precip_acc: 0.6853\n",
            "Epoch 16/20\n",
            "131/131 [==============================] - 3s 27ms/step - loss: 8.4143 - temp_loss: 7.8067 - precip_loss: 0.6076 - temp_acc: 0.0417 - precip_acc: 0.6756 - val_loss: 8.5313 - val_temp_loss: 7.9276 - val_precip_loss: 0.6037 - val_temp_acc: 0.0429 - val_precip_acc: 0.6799\n",
            "Epoch 17/20\n",
            "131/131 [==============================] - 4s 27ms/step - loss: 7.8532 - temp_loss: 7.2443 - precip_loss: 0.6089 - temp_acc: 0.0423 - precip_acc: 0.6768 - val_loss: 7.8941 - val_temp_loss: 7.2907 - val_precip_loss: 0.6034 - val_temp_acc: 0.0398 - val_precip_acc: 0.6784\n",
            "Epoch 18/20\n",
            "131/131 [==============================] - 4s 27ms/step - loss: 7.5564 - temp_loss: 6.9442 - precip_loss: 0.6122 - temp_acc: 0.0461 - precip_acc: 0.6703 - val_loss: 7.6540 - val_temp_loss: 7.0558 - val_precip_loss: 0.5983 - val_temp_acc: 0.0429 - val_precip_acc: 0.6844\n",
            "Epoch 19/20\n",
            "131/131 [==============================] - 4s 27ms/step - loss: 7.2872 - temp_loss: 6.6763 - precip_loss: 0.6109 - temp_acc: 0.0480 - precip_acc: 0.6758 - val_loss: 7.5575 - val_temp_loss: 6.9557 - val_precip_loss: 0.6018 - val_temp_acc: 0.0480 - val_precip_acc: 0.6759\n",
            "Epoch 20/20\n",
            "131/131 [==============================] - 4s 27ms/step - loss: 7.1885 - temp_loss: 6.5840 - precip_loss: 0.6045 - temp_acc: 0.0506 - precip_acc: 0.6827 - val_loss: 7.4973 - val_temp_loss: 6.8883 - val_precip_loss: 0.6090 - val_temp_acc: 0.0520 - val_precip_acc: 0.6744\n"
          ],
          "name": "stdout"
        },
        {
          "output_type": "execute_result",
          "data": {
            "text/plain": [
              "<keras.callbacks.History at 0x7f4c11514a90>"
            ]
          },
          "metadata": {
            "tags": []
          },
          "execution_count": 63
        }
      ]
    },
    {
      "cell_type": "markdown",
      "metadata": {
        "id": "v9W3WaILY0eR",
        "colab_type": "text"
      },
      "source": [
        "Note in your estimation output above that the loss for temperature is an order of magnitude larger than the loss for precipitation.  This could be addressed in the estimation by specifying 'loss_weights', but you don't need to do that."
      ]
    }
  ]
}